{
  "nbformat": 4,
  "nbformat_minor": 0,
  "metadata": {
    "colab": {
      "provenance": [],
      "authorship_tag": "ABX9TyNBhoc3PQA2ekHl5QnF9ITj",
      "include_colab_link": true
    },
    "kernelspec": {
      "name": "python3",
      "display_name": "Python 3"
    },
    "language_info": {
      "name": "python"
    }
  },
  "cells": [
    {
      "cell_type": "markdown",
      "metadata": {
        "id": "view-in-github",
        "colab_type": "text"
      },
      "source": [
        "<a href=\"https://colab.research.google.com/github/jrmarques75/projeto_python/blob/main/Untitled0.ipynb\" target=\"_parent\"><img src=\"https://colab.research.google.com/assets/colab-badge.svg\" alt=\"Open In Colab\"/></a>"
      ]
    },
    {
      "cell_type": "code",
      "execution_count": 1,
      "metadata": {
        "id": "XMwRId5yBLYP"
      },
      "outputs": [],
      "source": [
        "class Banco:\n",
        "    def __init__(self):\n",
        "        self.depositos = []\n",
        "        self.saques = []\n",
        "        self.saldo = 0\n",
        "        self.saques_diarios = 0\n",
        "        self.LIMITE_SAQUE = 500\n",
        "        self.LIMITE_SAQUES_DIARIOS = 3\n",
        "\n",
        "    def deposito(self, valor):\n",
        "        if valor > 0:\n",
        "            self.depositos.append(valor)\n",
        "            self.saldo += valor\n",
        "            print(f\"Depósito de R${valor:.2f} realizado com sucesso.\")\n",
        "        else:\n",
        "            print(\"Valor do depósito deve ser positivo.\")\n",
        "\n",
        "    def saque(self, valor):\n",
        "        if self.saques_diarios >= self.LIMITE_SAQUES_DIARIOS:\n",
        "            print(\"Limite de saques diários atingido.\")\n",
        "        elif valor > self.saldo:\n",
        "            print(\"Saldo insuficiente para realizar o saque.\")\n",
        "        elif valor > self.LIMITE_SAQUE:\n",
        "            print(f\"O valor máximo para saque é de R${self.LIMITE_SAQUE:.2f}.\")\n",
        "        else:\n",
        "            self.saques.append(valor)\n",
        "            self.saldo -= valor\n",
        "            self.saques_diarios += 1\n",
        "            print(f\"Saque de R${valor:.2f} realizado com sucesso.\")\n",
        "\n",
        "    def extrato(self):\n",
        "        if not self.depositos and not self.saques:\n",
        "            print(\"Não foram realizadas movimentações.\")\n",
        "        else:\n",
        "            print(\"Extrato:\")\n",
        "            for deposito in self.depositos:\n",
        "                print(f\"Depósito: R${deposito:.2f}\")\n",
        "            for saque in self.saques:\n",
        "                print(f\"Saque: R${saque:.2f}\")\n",
        "            print(f\"Saldo atual: R${self.saldo:.2f}\")"
      ]
    }
  ]
}